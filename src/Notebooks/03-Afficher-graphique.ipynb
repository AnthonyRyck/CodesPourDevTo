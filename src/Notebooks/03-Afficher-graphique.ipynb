{
 "metadata": {
  "kernelspec": {
   "name": ".net-csharp",
   "display_name": ".NET (C#)",
   "language": "C#"
  },
  "language_info": {
   "file_extension": ".cs",
   "mimetype": "text/x-csharp",
   "name": "C#",
   "pygments_lexer": "csharp",
   "version": "9.0"
  },
  "interpreter": {
   "hash": "ee5cc6fef2d70a7e71ee3826687cbd150f18158e0b1eef11d4f4f92bb920e304"
  }
 },
 "cells": [
  {
   "cell_type": "markdown",
   "source": [
    "# Afficher des graphiques dans .Net Interactive\r\n",
    "\r\n",
    "Il est possible d'afficher des graphiques avec du Javascript et en .Net.   \r\n",
    "Ajout du package nuget."
   ],
   "metadata": {}
  },
  {
   "cell_type": "markdown",
   "source": [
    "# Graphique en .Net"
   ],
   "metadata": {
    "dotnet_interactive": {
     "language": "csharp"
    }
   }
  },
  {
   "cell_type": "markdown",
   "source": [
    "## ScottPlot\r\n",
    "Il y a la librairie [ScottPlot](https://swharden.com/scottplot/).  \r\n",
    "La sortie du graphique se fait sous forme d'image.\r\n",
    "```\r\n",
    "plt.SaveFig(@\"quickstart_scatter.png\");\r\n",
    "```\r\n",
    "\r\n",
    "Import de la dernière version :"
   ],
   "metadata": {}
  },
  {
   "cell_type": "code",
   "execution_count": null,
   "source": [
    "#r \"nuget:ScottPlot,4.1.20\""
   ],
   "outputs": [
    {
     "data": {
      "text/html": [
       "<div><div></div><div></div><div><strong>Installed Packages</strong><ul><li><span>ScottPlot, 4.1.20</span></li></ul></div></div>"
      ]
     },
     "metadata": {},
     "output_type": "display_data"
    }
   ],
   "metadata": {
    "dotnet_interactive": {
     "language": "csharp"
    }
   }
  },
  {
   "cell_type": "code",
   "execution_count": null,
   "source": [
    "#!csharp\r\n",
    "using ScottPlot;\r\n",
    "\r\n",
    "Plot plt = new Plot(600, 400);\r\n",
    "\r\n",
    "// sample data\r\n",
    "double[] xs = DataGen.Consecutive(51);\r\n",
    "double[] sin = DataGen.Sin(51);\r\n",
    "double[] cos = DataGen.Cos(51);\r\n",
    "\r\n",
    "// plot the data\r\n",
    "// Ajout d'un graphique\r\n",
    "plt.AddScatter(xs, sin);\r\n",
    "\r\n",
    "// ajout d'un autre graphique.\r\n",
    "plt.AddScatter(xs, cos);\r\n",
    "\r\n",
    "// customize the axis labels\r\n",
    "plt.Title(\"ScottPlot Quickstart\");\r\n",
    "plt.XLabel(\"Horizontal Axis\");\r\n",
    "plt.YLabel(\"Vertical Axis\");\r\n",
    "\r\n",
    "// Sauvegarde dans un fichier\r\n",
    "plt.SaveFig(@\"quickstart_scatter.png\");\r\n",
    "// possible de sauvegarde le fichier n'importe ou.\r\n",
    "// plt.SaveFig(@\"c:\\YOUR_PATH\\fileName.png\");\r\n",
    "\r\n",
    "// Affichage du résultat de l'image dans un \"bout HTML\"\r\n",
    "#!html\r\n",
    "<div>\r\n",
    "    <img src=\"quickstart_scatter.png\" />\r\n",
    "</div>\r\n"
   ],
   "outputs": [
    {
     "data": {
      "text/html": [
       "<div>\r\n",
       "    <img src=\"quickstart_scatter.png\" />\r\n",
       "</div>\r\n"
      ]
     },
     "metadata": {},
     "output_type": "display_data"
    }
   ],
   "metadata": {
    "dotnet_interactive": {
     "language": "csharp"
    }
   }
  },
  {
   "cell_type": "markdown",
   "source": [
    "## Plotly.net\r\n",
    "\r\n",
    "Une autre librairie sympa à utiliser : [Plotly.net](https://plotly.net/).  \r\n",
    "La documentation est vraiment très complète et avec beaucoup d'exemples. Il est possible d'utiliser le C# pour faire des graphiques, mais elle est quand même très orienté vers le F#. En regardant les exemples, il n'y a rien d'insurmontable.  \r\n",
    "Contrairement à ScottPlot, l'affichage de l'image se fait directement dans le Notebook.\r\n",
    "\r\n",
    "Installation des packages nuget :"
   ],
   "metadata": {}
  },
  {
   "cell_type": "code",
   "execution_count": null,
   "source": [
    "#r \"nuget: Plotly.NET, 2.0.0-preview.7\"\r\n",
    "#r \"nuget:Plotly.NET.Interactive,2.0.0-preview.7\""
   ],
   "outputs": [
    {
     "data": {
      "text/html": [
       "<div><div></div><div></div><div><strong>Installed Packages</strong><ul><li><span>Plotly.NET, 2.0.0-preview.7</span></li><li><span>Plotly.NET.Interactive, 2.0.0-preview.7</span></li></ul></div></div>"
      ]
     },
     "metadata": {},
     "output_type": "display_data"
    },
    {
     "data": {
      "text/markdown": [
       "Loading extensions from `Plotly.NET.Interactive.dll`"
      ]
     },
     "metadata": {},
     "output_type": "display_data"
    },
    {
     "data": {
      "text/markdown": [
       "Added Kernel Extension including formatters for Plotly.NET charts."
      ]
     },
     "metadata": {},
     "output_type": "display_data"
    }
   ],
   "metadata": {
    "dotnet_interactive": {
     "language": "csharp"
    }
   }
  },
  {
   "cell_type": "markdown",
   "source": [
    "### Version C#"
   ],
   "metadata": {}
  },
  {
   "cell_type": "code",
   "execution_count": null,
   "source": [
    "using Plotly.NET;\r\n",
    "\r\n",
    "List<int> x = new List<int> { 1, 2 };\r\n",
    "List<int> y = new List<int> { 5, 10 };\r\n",
    "\r\n",
    "Axis.LinearAxis xAxis = new Axis.LinearAxis();\r\n",
    "xAxis.SetValue(\"title\", \"xAxis\");\r\n",
    "xAxis.SetValue(\"showgrid\", false);\r\n",
    "xAxis.SetValue(\"showline\", true);\r\n",
    "\r\n",
    "Axis.LinearAxis yAxis = new Axis.LinearAxis();\r\n",
    "yAxis.SetValue(\"title\", \"yAxis\");\r\n",
    "yAxis.SetValue(\"showgrid\", false);\r\n",
    "yAxis.SetValue(\"showline\", true);\r\n",
    "\r\n",
    "Layout layout = new Layout();\r\n",
    "layout.SetValue(\"xaxis\", xAxis);\r\n",
    "layout.SetValue(\"yaxis\", yAxis);\r\n",
    "layout.SetValue(\"showlegend\", true);\r\n",
    "\r\n",
    "Trace trace = new Trace(\"scatter\");\r\n",
    "trace.SetValue(\"x\", x);\r\n",
    "trace.SetValue(\"y\", y);\r\n",
    "trace.SetValue(\"mode\", \"markers\");\r\n",
    "trace.SetValue(\"name\", \"Hello from C#\");\r\n",
    "\r\n",
    "GenericChart\r\n",
    "    .ofTraceObject(trace)\r\n",
    "    .WithLayout(layout)\r\n",
    "    .Display();   "
   ],
   "outputs": [
    {
     "data": {
      "text/html": [
       "<div id=\"8ab6ec62-7e33-4125-8a36-eca25c9c1546\" style=\"width: 600px; height: 600px;\"><!-- Plotly chart will be drawn inside this DIV --></div>\r\n",
       "<script type=\"text/javascript\">\r\n",
       "\n",
       "            var renderPlotly_8ab6ec627e3341258a36eca25c9c1546 = function() {\n",
       "            var fsharpPlotlyRequire = requirejs.config({context:'fsharp-plotly',paths:{plotly:'https://cdn.plot.ly/plotly-latest.min'}}) || require;\n",
       "            fsharpPlotlyRequire(['plotly'], function(Plotly) {\r\n",
       "\n",
       "            var data = [{\"type\":\"scatter\",\"x\":[1,2],\"y\":[5,10],\"mode\":\"markers\",\"name\":\"Hello from C#\"}];\n",
       "            var layout = {\"xaxis\":{\"title\":\"xAxis\",\"showgrid\":false,\"showline\":true},\"yaxis\":{\"title\":\"yAxis\",\"showgrid\":false,\"showline\":true},\"showlegend\":true};\n",
       "            var config = {};\n",
       "            Plotly.newPlot('8ab6ec62-7e33-4125-8a36-eca25c9c1546', data, layout, config);\r\n",
       "});\n",
       "            };\n",
       "            if ((typeof(requirejs) !==  typeof(Function)) || (typeof(requirejs.config) !== typeof(Function))) {\n",
       "                var script = document.createElement(\"script\");\n",
       "                script.setAttribute(\"src\", \"https://cdnjs.cloudflare.com/ajax/libs/require.js/2.3.6/require.min.js\");\n",
       "                script.onload = function(){\n",
       "                    renderPlotly_8ab6ec627e3341258a36eca25c9c1546();\n",
       "                };\n",
       "                document.getElementsByTagName(\"head\")[0].appendChild(script);\n",
       "            }\n",
       "            else {\n",
       "                renderPlotly_8ab6ec627e3341258a36eca25c9c1546();\n",
       "            }\r\n",
       "</script>\r\n"
      ]
     },
     "metadata": {},
     "output_type": "display_data"
    }
   ],
   "metadata": {
    "dotnet_interactive": {
     "language": "csharp"
    }
   }
  },
  {
   "cell_type": "markdown",
   "source": [
    "### Version F#\r\n",
    "Pris du site pour l'exemple : [choropleth](https://plotly.net/5_2_choropleth-map.html).  \r\n",
    "Récupération des packages nuget :"
   ],
   "metadata": {}
  },
  {
   "cell_type": "code",
   "execution_count": null,
   "source": [
    "#r \"nuget: Plotly.NET, 2.0.0-preview.7\"\r\n",
    "#r \"nuget: Plotly.NET.Interactive, 2.0.0-preview.7\""
   ],
   "outputs": [
    {
     "data": {
      "text/html": [
       "<div><div></div><div></div><div><strong>Installed Packages</strong><ul><li><span>Plotly.NET, 2.0.0-preview.7</span></li><li><span>Plotly.NET.Interactive, 2.0.0-preview.7</span></li></ul></div></div>"
      ]
     },
     "metadata": {},
     "output_type": "display_data"
    }
   ],
   "metadata": {
    "dotnet_interactive": {
     "language": "fsharp"
    }
   }
  },
  {
   "cell_type": "markdown",
   "source": [
    "Création des données."
   ],
   "metadata": {}
  },
  {
   "cell_type": "code",
   "execution_count": null,
   "source": [
    "open Plotly.NET \r\n",
    "\r\n",
    "// Pure alcohol consumption among adults (age 15+) in 2010\r\n",
    "let locations,z = \r\n",
    "   [(\"Belarus\",17.5); (\"Moldova\",16.8);(\"Lithuania\",15.4);(\"Russia\",15.1);\r\n",
    "    (\"Romania\",14.4);(\"Ukraine\",13.9);(\"Andorra\",13.8);(\"Hungary\",13.3);\r\n",
    "    (\"Czech Republic\",13.);(\"Slovakia\",13.);(\"Portugal\",12.9);(\"Serbia\",12.6);\r\n",
    "    (\"Grenada\",12.5);(\"Poland\",12.5);(\"Latvia\",12.3);(\"Finland\",12.3);\r\n",
    "    (\"South Korea\",12.3);(\"France\",12.2);(\"Australia\",12.2);(\"Croatia\",12.2);\r\n",
    "    (\"Ireland\",11.9);(\"Luxembourg\",11.9);(\"Germany\",11.8);(\"Slovenia\",11.6);\r\n",
    "    (\"United Kingdom\",11.6);(\"Denmark\",11.4);(\"Bulgaria\",11.4);(\"Spain\",11.2);\r\n",
    "    (\"Belgium\",11.);(\"South Africa\",11.);(\"New Zealand\",10.9);(\"Gabon\",10.9);\r\n",
    "    (\"Namibia\",10.8);(\"Switzerland\",10.7);(\"Saint Lucia\",10.4);(\"Austria\",10.3);\r\n",
    "    (\"Estonia\",10.3);(\"Greece\",10.3);(\"Kazakhstan\",10.3);(\"Canada\",10.2);\r\n",
    "    (\"Nigeria\",10.1);(\"Netherlands\",9.9);(\"Uganda\",9.8);(\"Rwanda\",9.8);\r\n",
    "    (\"Chile\",9.6);(\"Argentina\",9.3);(\"Burundi\",9.3);(\"United States\",9.2);\r\n",
    "    (\"Cyprus\",9.2);(\"Sweden\",9.2);(\"Venezuela\",8.9);(\"Paraguay\",8.8);(\"Brazil\",8.7);\r\n",
    "    (\"Sierra Leone\",8.7);(\"Montenegro\",8.7);(\"Belize\",8.5);(\"Cameroon\",8.4);\r\n",
    "    (\"Botswana\",8.4);(\"Saint Kitts and Nevis\",8.2);(\"Guyana\",8.1);(\"Peru\",8.1);\r\n",
    "    (\"Panama\",8.);(\"Niue\",8.);(\"Palau\",7.9);(\"Norway\",7.7);(\"Tanzania\",7.7);\r\n",
    "    (\"Georgia\",7.7);(\"Uruguay\",7.6);(\"Angola\",7.5);(\"Laos\",7.3);(\"Japan\",7.2);\r\n",
    "    (\"Mexico\",7.2);(\"Ecuador\",7.2);(\"Dominica\",7.1);(\"Iceland\",7.1);\r\n",
    "    (\"Thailand\",7.1);(\"Bosnia and Herzegovina\",7.1);(\"Sao Tome and Principe\",7.1);\r\n",
    "    (\"Malta\",7.);(\"Albania\",7.);(\"Bahamas\",6.9);(\"Dominican Republic\",6.9);\r\n",
    "    (\"Mongolia\",6.9);(\"Cape Verde\",6.9);(\"Barbados\",6.8);(\"Burkina Faso\",6.8);\r\n",
    "    (\"Italy\",6.7);(\"Trinidad and Tobago\",6.7);(\"China\",6.7);(\"Macedonia\",6.7);\r\n",
    "    (\"Saint Vincent and the Grenadines\",6.6);(\"Equatorial Guinea\",6.6);\r\n",
    "    (\"Suriname\",6.6);(\"Vietnam\",6.6);(\"Lesotho\",6.5);(\"Haiti\",6.4);\r\n",
    "    (\"Cook Islands\",6.4);(\"Colombia\",6.2);(\"Ivory Coast\",6.);(\"Bolivia\",5.9);\r\n",
    "    (\"Swaziland\",5.7);(\"Zimbabwe\",5.7);(\"Seychelles\",5.6);(\"Cambodia\",5.5);\r\n",
    "    (\"Puerto Rico\",5.4);(\"Netherlands Antilles\",5.4);(\"Philippines\",5.4);\r\n",
    "    (\"Costa Rica\",5.4);(\"Armenia\",5.3);(\"Cuba\",5.2);(\"Nicaragua\",5.);\r\n",
    "    (\"Jamaica\",4.9);(\"Ghana\",4.8);(\"Liberia\",4.7);(\"Uzbekistan\",4.6);\r\n",
    "    (\"Chad\",4.4);(\"United Arab Emirates\",4.3);(\"Kyrgyzstan\",4.3);(\"India\",4.3);\r\n",
    "    (\"Turkmenistan\",4.3);(\"Kenya\",4.3);(\"Ethiopia\",4.2);(\"Honduras\",4.);\r\n",
    "    (\"Guinea-Bissau\",4.);(\"Zambia\",4.);(\"Republic of the Congo\",3.9);(\"Guatemala\",3.8);\r\n",
    "    (\"Central African Republic\",3.8);(\"North Korea\",3.7);(\"Sri Lanka\",3.7);\r\n",
    "    (\"Mauritius\",3.6);(\"Samoa\",3.6);(\"Democratic Republic of the Congo\",3.6);\r\n",
    "    (\"Nauru\",3.5);(\"Gambia\",3.4);(\"Federated States of Micronesia\",3.3);\r\n",
    "    (\"El Salvador\",3.2);(\"Fiji\",3.);(\"Papua New Guinea\",3.);(\"Kiribati\",3.);\r\n",
    "    (\"Tajikistan\",2.8);(\"Israel\",2.8);(\"Sudan\",2.7);(\"Malawi\",2.5);(\"Lebanon\",2.4);\r\n",
    "    (\"Azerbaijan\",2.3);(\"Mozambique\",2.3);(\"Togo\",2.3);(\"Nepal\",2.2);(\"Brunei\",2.1);\r\n",
    "    (\"Benin\",2.1);(\"Singapore\",2.);(\"Turkey\",2.);(\"Madagascar\",1.8);(\"Solomon Islands\",1.7);\r\n",
    "    (\"Tonga\",1.6);(\"Tunisia\",1.5);(\"Tuvalu\",1.5);(\"Qatar\",1.5);(\"Vanuatu\",1.4);\r\n",
    "    (\"Djibouti\",1.3);(\"Malaysia\",1.3);(\"Syria\",1.2);(\"Maldives\",1.2);(\"Mali\",1.1);\r\n",
    "    (\"Eritrea\",1.1);(\"Algeria\",1.);(\"Iran\",1.);(\"Oman\",0.9);(\"Brunei\",0.9);\r\n",
    "    (\"Morocco\",0.9);(\"Jordan\",0.7);(\"Bhutan\",0.7);(\"Guinea\",0.7);(\"Burma\",0.7);\r\n",
    "    (\"Afghanistan\",0.7);(\"Senegal\",0.6);(\"Indonesia\",0.6);(\"Timor-Leste\",0.6);\r\n",
    "    (\"Iraq\",0.5);(\"Somalia\",0.5);(\"Egypt\",0.4);(\"Niger\",0.3);(\"Yemen\",0.3);\r\n",
    "    (\"Comoros\",0.2);(\"Saudi Arabia\",0.2);(\"Bangladesh\",0.2);(\"Kuwait\",0.1);\r\n",
    "    (\"Libya\",0.1);(\"Mauritania\",0.1);(\"Pakistan\",0.1);]\r\n",
    "    |> List.unzip\r\n"
   ],
   "outputs": [],
   "metadata": {
    "dotnet_interactive": {
     "language": "fsharp"
    }
   }
  },
  {
   "cell_type": "code",
   "execution_count": null,
   "source": [
    "let choroplethMap1 =\r\n",
    "    Chart.ChoroplethMap(\r\n",
    "        locations,z,\r\n",
    "        Locationmode=StyleParam.LocationFormat.CountryNames\r\n",
    "    )"
   ],
   "outputs": [],
   "metadata": {
    "dotnet_interactive": {
     "language": "fsharp"
    }
   }
  },
  {
   "cell_type": "markdown",
   "source": [
    "Affichage du \"graphique\"."
   ],
   "metadata": {}
  },
  {
   "cell_type": "code",
   "execution_count": null,
   "source": [
    "choroplethMap1"
   ],
   "outputs": [
    {
     "data": {
      "text/html": [
       "<div id=\"a7d6c051-8867-41d1-89ba-9583b8b6da79\" style=\"width: 600px; height: 600px;\"><!-- Plotly chart will be drawn inside this DIV --></div>\r\n",
       "<script type=\"text/javascript\">\r\n",
       "\n",
       "            var renderPlotly_a7d6c051886741d189ba9583b8b6da79 = function() {\n",
       "            var fsharpPlotlyRequire = requirejs.config({context:'fsharp-plotly',paths:{plotly:'https://cdn.plot.ly/plotly-latest.min'}}) || require;\n",
       "            fsharpPlotlyRequire(['plotly'], function(Plotly) {\r\n",
       "\n",
       "            var data = [{\"type\":\"choropleth\",\"locations\":[\"Belarus\",\"Moldova\",\"Lithuania\",\"Russia\",\"Romania\",\"Ukraine\",\"Andorra\",\"Hungary\",\"Czech Republic\",\"Slovakia\",\"Portugal\",\"Serbia\",\"Grenada\",\"Poland\",\"Latvia\",\"Finland\",\"South Korea\",\"France\",\"Australia\",\"Croatia\",\"Ireland\",\"Luxembourg\",\"Germany\",\"Slovenia\",\"United Kingdom\",\"Denmark\",\"Bulgaria\",\"Spain\",\"Belgium\",\"South Africa\",\"New Zealand\",\"Gabon\",\"Namibia\",\"Switzerland\",\"Saint Lucia\",\"Austria\",\"Estonia\",\"Greece\",\"Kazakhstan\",\"Canada\",\"Nigeria\",\"Netherlands\",\"Uganda\",\"Rwanda\",\"Chile\",\"Argentina\",\"Burundi\",\"United States\",\"Cyprus\",\"Sweden\",\"Venezuela\",\"Paraguay\",\"Brazil\",\"Sierra Leone\",\"Montenegro\",\"Belize\",\"Cameroon\",\"Botswana\",\"Saint Kitts and Nevis\",\"Guyana\",\"Peru\",\"Panama\",\"Niue\",\"Palau\",\"Norway\",\"Tanzania\",\"Georgia\",\"Uruguay\",\"Angola\",\"Laos\",\"Japan\",\"Mexico\",\"Ecuador\",\"Dominica\",\"Iceland\",\"Thailand\",\"Bosnia and Herzegovina\",\"Sao Tome and Principe\",\"Malta\",\"Albania\",\"Bahamas\",\"Dominican Republic\",\"Mongolia\",\"Cape Verde\",\"Barbados\",\"Burkina Faso\",\"Italy\",\"Trinidad and Tobago\",\"China\",\"Macedonia\",\"Saint Vincent and the Grenadines\",\"Equatorial Guinea\",\"Suriname\",\"Vietnam\",\"Lesotho\",\"Haiti\",\"Cook Islands\",\"Colombia\",\"Ivory Coast\",\"Bolivia\",\"Swaziland\",\"Zimbabwe\",\"Seychelles\",\"Cambodia\",\"Puerto Rico\",\"Netherlands Antilles\",\"Philippines\",\"Costa Rica\",\"Armenia\",\"Cuba\",\"Nicaragua\",\"Jamaica\",\"Ghana\",\"Liberia\",\"Uzbekistan\",\"Chad\",\"United Arab Emirates\",\"Kyrgyzstan\",\"India\",\"Turkmenistan\",\"Kenya\",\"Ethiopia\",\"Honduras\",\"Guinea-Bissau\",\"Zambia\",\"Republic of the Congo\",\"Guatemala\",\"Central African Republic\",\"North Korea\",\"Sri Lanka\",\"Mauritius\",\"Samoa\",\"Democratic Republic of the Congo\",\"Nauru\",\"Gambia\",\"Federated States of Micronesia\",\"El Salvador\",\"Fiji\",\"Papua New Guinea\",\"Kiribati\",\"Tajikistan\",\"Israel\",\"Sudan\",\"Malawi\",\"Lebanon\",\"Azerbaijan\",\"Mozambique\",\"Togo\",\"Nepal\",\"Brunei\",\"Benin\",\"Singapore\",\"Turkey\",\"Madagascar\",\"Solomon Islands\",\"Tonga\",\"Tunisia\",\"Tuvalu\",\"Qatar\",\"Vanuatu\",\"Djibouti\",\"Malaysia\",\"Syria\",\"Maldives\",\"Mali\",\"Eritrea\",\"Algeria\",\"Iran\",\"Oman\",\"Brunei\",\"Morocco\",\"Jordan\",\"Bhutan\",\"Guinea\",\"Burma\",\"Afghanistan\",\"Senegal\",\"Indonesia\",\"Timor-Leste\",\"Iraq\",\"Somalia\",\"Egypt\",\"Niger\",\"Yemen\",\"Comoros\",\"Saudi Arabia\",\"Bangladesh\",\"Kuwait\",\"Libya\",\"Mauritania\",\"Pakistan\"],\"z\":[17.5,16.8,15.4,15.1,14.4,13.9,13.8,13.3,13.0,13.0,12.9,12.6,12.5,12.5,12.3,12.3,12.3,12.2,12.2,12.2,11.9,11.9,11.8,11.6,11.6,11.4,11.4,11.2,11.0,11.0,10.9,10.9,10.8,10.7,10.4,10.3,10.3,10.3,10.3,10.2,10.1,9.9,9.8,9.8,9.6,9.3,9.3,9.2,9.2,9.2,8.9,8.8,8.7,8.7,8.7,8.5,8.4,8.4,8.2,8.1,8.1,8.0,8.0,7.9,7.7,7.7,7.7,7.6,7.5,7.3,7.2,7.2,7.2,7.1,7.1,7.1,7.1,7.1,7.0,7.0,6.9,6.9,6.9,6.9,6.8,6.8,6.7,6.7,6.7,6.7,6.6,6.6,6.6,6.6,6.5,6.4,6.4,6.2,6.0,5.9,5.7,5.7,5.6,5.5,5.4,5.4,5.4,5.4,5.3,5.2,5.0,4.9,4.8,4.7,4.6,4.4,4.3,4.3,4.3,4.3,4.3,4.2,4.0,4.0,4.0,3.9,3.8,3.8,3.7,3.7,3.6,3.6,3.6,3.5,3.4,3.3,3.2,3.0,3.0,3.0,2.8,2.8,2.7,2.5,2.4,2.3,2.3,2.3,2.2,2.1,2.1,2.0,2.0,1.8,1.7,1.6,1.5,1.5,1.5,1.4,1.3,1.3,1.2,1.2,1.1,1.1,1.0,1.0,0.9,0.9,0.9,0.7,0.7,0.7,0.7,0.7,0.6,0.6,0.6,0.5,0.5,0.4,0.3,0.3,0.2,0.2,0.2,0.1,0.1,0.1,0.1],\"locationmode\":\"country names\"}];\n",
       "            var layout = {};\n",
       "            var config = {};\n",
       "            Plotly.newPlot('a7d6c051-8867-41d1-89ba-9583b8b6da79', data, layout, config);\r\n",
       "});\n",
       "            };\n",
       "            if ((typeof(requirejs) !==  typeof(Function)) || (typeof(requirejs.config) !== typeof(Function))) {\n",
       "                var script = document.createElement(\"script\");\n",
       "                script.setAttribute(\"src\", \"https://cdnjs.cloudflare.com/ajax/libs/require.js/2.3.6/require.min.js\");\n",
       "                script.onload = function(){\n",
       "                    renderPlotly_a7d6c051886741d189ba9583b8b6da79();\n",
       "                };\n",
       "                document.getElementsByTagName(\"head\")[0].appendChild(script);\n",
       "            }\n",
       "            else {\n",
       "                renderPlotly_a7d6c051886741d189ba9583b8b6da79();\n",
       "            }\r\n",
       "</script>\r\n"
      ]
     },
     "metadata": {},
     "output_type": "display_data"
    }
   ],
   "metadata": {
    "dotnet_interactive": {
     "language": "fsharp"
    }
   }
  }
 ],
 "nbformat": 4,
 "nbformat_minor": 2
}